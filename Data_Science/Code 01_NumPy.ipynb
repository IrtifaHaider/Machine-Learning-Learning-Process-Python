{
 "cells": [
  {
   "cell_type": "code",
   "execution_count": 3,
   "id": "6402d9f9-9db5-4a0f-8564-d47e38fcb496",
   "metadata": {},
   "outputs": [],
   "source": [
    "# NumPy stands for Numeric Python \n",
    "# - a python library\n",
    "# - used for working with arrays\n",
    "# - 50X faster than list\n",
    "# - takes up continous memory\n",
    "# - supports vectorization\n"
   ]
  },
  {
   "cell_type": "code",
   "execution_count": 5,
   "id": "ad6f05ab-8440-4f9b-8c37-79570a0c2739",
   "metadata": {},
   "outputs": [
    {
     "data": {
      "text/plain": [
       "'2.0.2'"
      ]
     },
     "execution_count": 5,
     "metadata": {},
     "output_type": "execute_result"
    }
   ],
   "source": [
    "import numpy as np\n",
    "np.__version__"
   ]
  },
  {
   "cell_type": "code",
   "execution_count": 6,
   "id": "4ce86956-506b-46f4-9b21-6310dc5fe201",
   "metadata": {},
   "outputs": [
    {
     "name": "stdout",
     "output_type": "stream",
     "text": [
      "[1 2 3]\n",
      "<class 'numpy.ndarray'>\n",
      "int64\n",
      "(3,)\n",
      "1\n"
     ]
    }
   ],
   "source": [
    "my_np_array = np.array(\n",
    "    [1,2,3]\n",
    ")\n",
    "print(my_np_array)\n",
    "print(type(my_np_array))\n",
    "\n",
    "# Property 1: datatype\n",
    "print(my_np_array.dtype)\n",
    "\n",
    "# Property 2: shape\n",
    "print(my_np_array.shape)\n",
    "\n",
    "# Property 3: dimension\n",
    "print(my_np_array.ndim)"
   ]
  },
  {
   "cell_type": "code",
   "execution_count": 7,
   "id": "95f364f6-6645-4c58-b86f-e93d564aaa66",
   "metadata": {},
   "outputs": [
    {
     "data": {
      "text/plain": [
       "array([0., 0., 0., 0., 0.])"
      ]
     },
     "execution_count": 7,
     "metadata": {},
     "output_type": "execute_result"
    }
   ],
   "source": [
    "# Creating an array with all zeros\n",
    "zeros_np_array = np.zeros(\n",
    "    shape=(5,)\n",
    ")\n",
    "zeros_np_array"
   ]
  },
  {
   "cell_type": "code",
   "execution_count": 8,
   "id": "43fa6416-aaaa-4ce5-8ca7-ea126418bbe8",
   "metadata": {},
   "outputs": [
    {
     "data": {
      "text/plain": [
       "array([1., 1., 1., 1., 1.])"
      ]
     },
     "execution_count": 8,
     "metadata": {},
     "output_type": "execute_result"
    }
   ],
   "source": [
    "# Creating an array with all ones\n",
    "ones_np_array = np.ones(\n",
    "    shape=(5,)\n",
    ")\n",
    "ones_np_array"
   ]
  },
  {
   "cell_type": "code",
   "execution_count": 9,
   "id": "42189545-6449-45b2-b045-181ab9d17591",
   "metadata": {},
   "outputs": [
    {
     "name": "stdout",
     "output_type": "stream",
     "text": [
      "[[1 1]\n",
      " [1 1]\n",
      " [1 1]\n",
      " [1 1]\n",
      " [1 1]\n",
      " [1 1]\n",
      " [1 1]\n",
      " [1 1]\n",
      " [1 1]\n",
      " [1 1]]\n",
      "int64\n"
     ]
    }
   ],
   "source": [
    "# Creating an array with all ones integer type\n",
    "ones_np_array = np.ones(\n",
    "    shape=(10, 2),\n",
    "    dtype = 'int'\n",
    ")\n",
    "print(ones_np_array)\n",
    "print(ones_np_array.dtype)"
   ]
  },
  {
   "cell_type": "code",
   "execution_count": 10,
   "id": "6e5cf9e8-688d-4a7a-9391-585fe5e05796",
   "metadata": {},
   "outputs": [
    {
     "data": {
      "text/plain": [
       "array([15, 15, 15, 15, 15, 15, 15, 15, 15, 15])"
      ]
     },
     "execution_count": 10,
     "metadata": {},
     "output_type": "execute_result"
    }
   ],
   "source": [
    "# Creating an array with a specific value\n",
    "assigned_with_specific_np_array = np.full(\n",
    "    shape =(10,),\n",
    "    fill_value=15,\n",
    ")\n",
    "assigned_with_specific_np_array"
   ]
  },
  {
   "cell_type": "code",
   "execution_count": 11,
   "id": "d751e4c3-9f0b-4a34-9a2f-3de985a84ae7",
   "metadata": {},
   "outputs": [
    {
     "data": {
      "text/plain": [
       "array([[1., 0., 0.],\n",
       "       [0., 1., 0.],\n",
       "       [0., 0., 1.]])"
      ]
     },
     "execution_count": 11,
     "metadata": {},
     "output_type": "execute_result"
    }
   ],
   "source": [
    "# Creating Identitiy Matrix\n",
    "id_matrix = np.eye(3)\n",
    "id_matrix\n",
    "#print(id_matrix)"
   ]
  },
  {
   "cell_type": "code",
   "execution_count": 12,
   "id": "9fb6c978-f848-494c-883e-6793cd69558f",
   "metadata": {},
   "outputs": [
    {
     "data": {
      "text/plain": [
       "array([1., 1., 1., 1., 1.])"
      ]
     },
     "execution_count": 12,
     "metadata": {},
     "output_type": "execute_result"
    }
   ],
   "source": [
    "# Creating empty array\n",
    "my_empty_np_array =np.empty(\n",
    "    shape=(5,)\n",
    ")\n",
    "my_empty_np_array"
   ]
  },
  {
   "cell_type": "code",
   "execution_count": 13,
   "id": "5ee7dbcc-0cb9-4b66-ac20-78f1fd3dd365",
   "metadata": {},
   "outputs": [
    {
     "name": "stdout",
     "output_type": "stream",
     "text": [
      "int64\n",
      "float64\n"
     ]
    }
   ],
   "source": [
    "# lsit to numpy\n",
    "my_list = [1,2,3]\n",
    "my_np_list = np.array(\n",
    "    my_list\n",
    ")\n",
    "my_np_list\n",
    "\n",
    "# Type Cast\n",
    "print(my_np_list.dtype)\n",
    "my_np_list_float = my_np_list.astype('float')\n",
    "print(my_np_list_float.dtype)"
   ]
  },
  {
   "cell_type": "code",
   "execution_count": 14,
   "id": "9293903d-d05f-4dfc-a188-41e8c724478a",
   "metadata": {},
   "outputs": [
    {
     "data": {
      "text/plain": [
       "array([3, 4, 5, 6, 7, 8])"
      ]
     },
     "execution_count": 14,
     "metadata": {},
     "output_type": "execute_result"
    }
   ],
   "source": [
    "# Creating sequential array\n",
    "my_array = np.arange(start = 1, stop =10, step = 1) #start, end-1, increment(by deafult step=1)\n",
    "my_array\n",
    "my_array = np.arange(3,9) #start, end-1, increment(by deafult step=1)\n",
    "my_array"
   ]
  },
  {
   "cell_type": "code",
   "execution_count": 15,
   "id": "c6e2e1cc-ec5c-45b8-a1dc-d91a443b5f9e",
   "metadata": {},
   "outputs": [
    {
     "data": {
      "text/plain": [
       "array([  1.,  12.,  23.,  34.,  45.,  56.,  67.,  78.,  89., 100.])"
      ]
     },
     "execution_count": 15,
     "metadata": {},
     "output_type": "execute_result"
    }
   ],
   "source": [
    "my_np_array = np.linspace(\n",
    "    start = 3,\n",
    "    stop = 9,\n",
    "    num = 3 # generate 3 number that are at equal distances\n",
    ")\n",
    "my_np_array\n",
    "# linspace --> generates an array of evenly spaced numbers over a defined interval\n",
    "my_np_array = np.linspace(\n",
    "    start = 1,\n",
    "    stop = 100,\n",
    "    num = 10 \n",
    ")\n",
    "my_np_array"
   ]
  },
  {
   "cell_type": "code",
   "execution_count": 16,
   "id": "d94d6b75-4776-4dfb-b2ee-306a141228c8",
   "metadata": {},
   "outputs": [
    {
     "name": "stdout",
     "output_type": "stream",
     "text": [
      "0-dimensional array ;  9 \n",
      "ndim: 0\n",
      "1-dimensional array ;  [1.5 2.  3.3 4.7 5.1 6. ] \n",
      "ndim: 1\n",
      "2-dimensional array ;  [[1 2 3]\n",
      " [4 5 6]\n",
      " [7 8 9]] \n",
      "ndim: 2\n"
     ]
    }
   ],
   "source": [
    "# Mathematical Objects | Dimension\n",
    "# - Scalar --> 0D\n",
    "# - Vector --> 1D\n",
    "# - Matrix --> 2D\n",
    "# - Tensor --> xD where x > 2 : a unit data type of PyTorch and Tensorflow\n",
    "\n",
    "my_0d_array = np.array(9)\n",
    "print('0-dimensional array ; ', my_0d_array, '\\nndim:', my_0d_array.ndim)\n",
    "\n",
    "my_1d_array = np.array(\n",
    "    [1.5, 2, 3.3, 4.7, 5.1, 6]\n",
    ")\n",
    "print('1-dimensional array ; ', my_1d_array, '\\nndim:', my_1d_array.ndim)\n",
    "\n",
    "my_2d_array = np.array(\n",
    "    [[1, 2, 3],\n",
    "     [4, 5, 6],\n",
    "     [7, 8, 9]]   \n",
    ")\n",
    "print('2-dimensional array ; ', my_2d_array, '\\nndim:', my_2d_array.ndim)\n"
   ]
  },
  {
   "cell_type": "code",
   "execution_count": 17,
   "id": "b144924f-fda2-4844-9888-57f1407d3a4d",
   "metadata": {},
   "outputs": [
    {
     "name": "stdout",
     "output_type": "stream",
     "text": [
      "3\n",
      "4\n",
      "[1 2 3 4]\n",
      "8\n",
      "6\n"
     ]
    }
   ],
   "source": [
    "# NumPy Indexing\n",
    "my_np_array = np.array(\n",
    "    [1, 2, 3, 4, 5]\n",
    ")\n",
    "print(my_np_array[2])\n",
    "print(my_np_array[-2])\n",
    "\n",
    "my_2d_array = np.array(\n",
    "    [[1, 2, 3, 4],\n",
    "     [5, 8, 9, 6],\n",
    "     [7, 1, 2, 7]]\n",
    ")\n",
    "print(my_2d_array[0])\n",
    "print(my_2d_array[1,1])\n",
    "print(my_2d_array[1,-1])"
   ]
  },
  {
   "cell_type": "code",
   "execution_count": 18,
   "id": "3542884a-4176-48e5-a711-2c22ef251be4",
   "metadata": {},
   "outputs": [
    {
     "data": {
      "text/plain": [
       "array([[2, 3],\n",
       "       [8, 9]])"
      ]
     },
     "execution_count": 18,
     "metadata": {},
     "output_type": "execute_result"
    }
   ],
   "source": [
    "# NumPy Slicing : picking subarray \n",
    "my_np_array = np.array(\n",
    "    [1, 2, 3, 4, 5, 7, 8]\n",
    ")\n",
    "my_np_array[1:3] # by default step count 1\n",
    "my_np_array[1:4:1]\n",
    "my_np_array[0:5:2]\n",
    "my_np_array[:3] # index 0 to 2\n",
    "my_np_array[::]\n",
    "\n",
    "\n",
    "my_2d_array = np.array(\n",
    "    [[1, 2, 3, 4],\n",
    "     [5, 8, 9, 6],\n",
    "     [7, 1, 2, 7]]\n",
    ")\n",
    "my_2d_array[0:2, ]\n",
    "my_2d_array[0:2, 1:3]\n",
    "# my_2d_array[, 1:3] --> does not work"
   ]
  },
  {
   "cell_type": "markdown",
   "id": "611b3731-c719-4828-b2e2-1f827b266935",
   "metadata": {},
   "source": [
    "# A cell can be two types: code, markdown\n",
    "# NumPy Array Iteration"
   ]
  },
  {
   "cell_type": "code",
   "execution_count": 21,
   "id": "d7cad80f-4353-42d5-8a6b-8de887f30b68",
   "metadata": {},
   "outputs": [
    {
     "name": "stdout",
     "output_type": "stream",
     "text": [
      "[1 2 3 4 5 6]\n"
     ]
    }
   ],
   "source": [
    "import numpy as np\n",
    "np_array = np.array(\n",
    "    [1, 2, 3, 4, 5, 6]\n",
    ")\n",
    "print(np_array)"
   ]
  },
  {
   "cell_type": "code",
   "execution_count": 23,
   "id": "3f124cab-3b03-4b2a-b0c4-0b4cf31fb803",
   "metadata": {},
   "outputs": [
    {
     "name": "stdout",
     "output_type": "stream",
     "text": [
      "1\n",
      "2\n",
      "3\n",
      "4\n",
      "5\n",
      "6\n"
     ]
    }
   ],
   "source": [
    "# Option 1: Iterate by value (accessing the values sequentially)\n",
    "\n",
    "for val in np_array:\n",
    "    print(val)"
   ]
  },
  {
   "cell_type": "code",
   "execution_count": 24,
   "id": "f3508b3f-f760-4f03-8182-1dc550a3f4fc",
   "metadata": {},
   "outputs": [
    {
     "name": "stdout",
     "output_type": "stream",
     "text": [
      "1\n",
      "2\n",
      "3\n",
      "4\n",
      "5\n",
      "6\n"
     ]
    }
   ],
   "source": [
    "# Option 2: Iterate by index (accessing the values index number sequentially)\n",
    "\n",
    "for i in range(len(np_array)):\n",
    "    print (np_array[i])\n"
   ]
  },
  {
   "cell_type": "code",
   "execution_count": 25,
   "id": "1a3aba76-e73b-4f2e-8565-becdcafb251d",
   "metadata": {},
   "outputs": [
    {
     "name": "stdout",
     "output_type": "stream",
     "text": [
      "index = 0 value = 1\n",
      "index = 1 value = 2\n",
      "index = 2 value = 3\n",
      "index = 3 value = 4\n",
      "index = 4 value = 5\n",
      "index = 5 value = 6\n"
     ]
    }
   ],
   "source": [
    "# Option 2: Iterate by value and index (accessing both the values and index number sequentially)\n",
    "for i, val in enumerate(np_array):\n",
    "    print(f\"index = {i} value = {val}\")"
   ]
  },
  {
   "cell_type": "markdown",
   "id": "cbdcc3d7-2397-4f6b-8a6e-57035b1a3f00",
   "metadata": {},
   "source": [
    "# NumPy Methods"
   ]
  },
  {
   "cell_type": "code",
   "execution_count": 32,
   "id": "5d2952cc-071d-43d2-9b9d-8a32a3d88a9e",
   "metadata": {},
   "outputs": [
    {
     "name": "stdout",
     "output_type": "stream",
     "text": [
      "[[ 1  2  3]\n",
      " [ 4  5  6]\n",
      " [ 7  8  9]\n",
      " [10 11 12]\n",
      " [13 14 15]]\n",
      "(5, 3)\n",
      "[[ 1  2  3  4  5]\n",
      " [ 6  7  8  9 10]\n",
      " [11 12 13 14 15]]\n",
      "[[ 1]\n",
      " [ 2]\n",
      " [ 3]\n",
      " [ 4]\n",
      " [ 5]\n",
      " [ 6]\n",
      " [ 7]\n",
      " [ 8]\n",
      " [ 9]\n",
      " [10]\n",
      " [11]\n",
      " [12]\n",
      " [13]\n",
      " [14]\n",
      " [15]]\n",
      "[[[ 1  2  3  4  5]\n",
      "  [ 6  7  8  9 10]\n",
      "  [11 12 13 14 15]]]\n"
     ]
    }
   ],
   "source": [
    "# Reshape \n",
    "# Purpose: reshaping matrices for multiplication operations, does not change elements of matrix\n",
    "# Condition: multiplication of dimension values before and after reshaping must be ame\n",
    "# Working Principle \n",
    "# Step 1: flattening --> 1D\n",
    "# [1, 2, 3, 4, 5, 6, 7, 8, 9, 10, 11, 12, 13, 14, 15]\n",
    "# Step 2: reshaping \n",
    "# [[[1, 2, 3, 4, 5], [6, 7, 8, 9, 10], [11, 12, 13, 14, 15]]] \n",
    "my_2d_array = np.array(\n",
    "    [[1, 2, 3],\n",
    "     [4, 5, 6],\n",
    "     [7, 8, 9],\n",
    "     [10, 11, 12],\n",
    "     [13, 14, 15]]\n",
    ")\n",
    "print(my_2d_array)\n",
    "print(my_2d_array.shape)\n",
    "print(my_2d_array.reshape(3, 5)) #converts to 3 rows, 5 columns\n",
    "# print(my_2d_array.reshape(3, 4)) --> valueError: cannot reshape array of size 15 into shape (3,4)\n",
    "print(my_2d_array.reshape(15, 1))\n",
    "print(my_2d_array.reshape(1, 3, 5)) # turns into 3D matrix: 1 matrix has 3 elements, and each elements have 5 elements"
   ]
  },
  {
   "cell_type": "code",
   "execution_count": 42,
   "id": "0064f8c2-02c2-43a4-8a6d-083f93ff01b7",
   "metadata": {},
   "outputs": [
    {
     "name": "stdout",
     "output_type": "stream",
     "text": [
      "[[[[0. 0.]\n",
      "   [0. 0.]]\n",
      "\n",
      "  [[0. 0.]\n",
      "   [0. 0.]]\n",
      "\n",
      "  [[0. 0.]\n",
      "   [0. 0.]]\n",
      "\n",
      "  [[0. 0.]\n",
      "   [0. 0.]]]\n",
      "\n",
      "\n",
      " [[[0. 0.]\n",
      "   [0. 0.]]\n",
      "\n",
      "  [[0. 0.]\n",
      "   [0. 0.]]\n",
      "\n",
      "  [[0. 0.]\n",
      "   [0. 0.]]\n",
      "\n",
      "  [[0. 0.]\n",
      "   [0. 0.]]]\n",
      "\n",
      "\n",
      " [[[0. 0.]\n",
      "   [0. 0.]]\n",
      "\n",
      "  [[0. 0.]\n",
      "   [0. 0.]]\n",
      "\n",
      "  [[0. 0.]\n",
      "   [0. 0.]]\n",
      "\n",
      "  [[0. 0.]\n",
      "   [0. 0.]]]]\n",
      "[[[0. 0. 0. 0. 0. 0. 0. 0. 0. 0. 0. 0.]\n",
      "  [0. 0. 0. 0. 0. 0. 0. 0. 0. 0. 0. 0.]]\n",
      "\n",
      " [[0. 0. 0. 0. 0. 0. 0. 0. 0. 0. 0. 0.]\n",
      "  [0. 0. 0. 0. 0. 0. 0. 0. 0. 0. 0. 0.]]]\n",
      "[[[0. 0. 0. 0. 0. 0. 0. 0. 0. 0. 0. 0.]\n",
      "  [0. 0. 0. 0. 0. 0. 0. 0. 0. 0. 0. 0.]]\n",
      "\n",
      " [[0. 0. 0. 0. 0. 0. 0. 0. 0. 0. 0. 0.]\n",
      "  [0. 0. 0. 0. 0. 0. 0. 0. 0. 0. 0. 0.]]]\n",
      "(2, 2, 12)\n"
     ]
    }
   ],
   "source": [
    "# Reshaping with -1 : to calculate the unknown dimension in reshape method\n",
    "# size of my_np_array 3 * 4 * 2 * 2 = 48\n",
    "my_np_array = np.zeros(shape=(3, 4, 2, 2))\n",
    "print(my_np_array)\n",
    "print(my_np_array.reshape(2, 2, 12))\n",
    "my_np_array_reshaped = my_np_array.reshape(2, 2, -1)\n",
    "print(my_np_array_reshaped)\n",
    "print(my_np_array_reshaped.shape)\n",
    "# print(my_np_array.reshape(-1, 2, -1)) --> ValueError: can only specify one unknown dimension"
   ]
  },
  {
   "cell_type": "code",
   "execution_count": 45,
   "id": "0aceb1ba-9535-4bc6-aff4-230a29e57b1c",
   "metadata": {},
   "outputs": [
    {
     "name": "stdout",
     "output_type": "stream",
     "text": [
      "[0.1 0.2 0.3 0.4]\n",
      "[0.4 0.3 0.2 0.1]\n"
     ]
    }
   ],
   "source": [
    "# sort\n",
    "probabilities = np.array(\n",
    "    [0.3, 0.1, 0.4, 0.2]\n",
    ")\n",
    "probabilities_sorted = np.sort(probabilities)\n",
    "print(probabilities_sorted)\n",
    "\n",
    "probabilities_reverse_sort =  np.sort(probabilities)[::-1] #slicing technique\n",
    "print(probabilities_reverse_sort)"
   ]
  },
  {
   "cell_type": "code",
   "execution_count": 48,
   "id": "0fcd318b-ba1f-42f6-8c80-2275cc524cbd",
   "metadata": {},
   "outputs": [
    {
     "name": "stdout",
     "output_type": "stream",
     "text": [
      "2\n",
      "1\n"
     ]
    }
   ],
   "source": [
    "# Argmax, Argmin: by using these we get the max value and min value for our model for predition\n",
    "# prints max/min value contained index\n",
    "index_max = np.argmax(probabilities)\n",
    "print(index_max)\n",
    "\n",
    "index_min = np.argmin(probabilities)\n",
    "print(index_min)"
   ]
  },
  {
   "cell_type": "code",
   "execution_count": 52,
   "id": "725357bc-8c99-459a-bc7f-3f3b59b47692",
   "metadata": {},
   "outputs": [
    {
     "name": "stdout",
     "output_type": "stream",
     "text": [
      "[array([1, 5]), array([1, 1]), array([5, 7])]\n"
     ]
    }
   ],
   "source": [
    "# split: divides in equal portions\n",
    "# split data to test model\n",
    "my_np_array = np.array([1, 5, 1, 1, 5, 7])\n",
    "new_np_array = np.split(\n",
    "    my_np_array, \n",
    "    indices_or_sections=3 \n",
    ")\n",
    "print(new_np_array)"
   ]
  },
  {
   "cell_type": "code",
   "execution_count": 53,
   "id": "c25f97a1-72c4-42fe-80e9-9b60f3b1cd29",
   "metadata": {},
   "outputs": [
    {
     "name": "stdout",
     "output_type": "stream",
     "text": [
      "[3 4 5]\n",
      "[1 2 3]\n",
      "26\n"
     ]
    }
   ],
   "source": [
    "# Dot Product\n",
    "# v1 = 3i + 2j\n",
    "# v2 = 3i - 2j\n",
    "# v1 . v2 = (3 * 3) + (2 * -2) = 5\n",
    "\n",
    "my_np_array_1 = np.array(\n",
    "    [3, 4, 5]\n",
    ")\n",
    "\n",
    "my_np_array_2 = np.array(\n",
    "    [1, 2, 3]\n",
    ")\n",
    "print(my_np_array_1)\n",
    "print(my_np_array_2)\n",
    "\n",
    "dot_product = np.dot(my_np_array_1, my_np_array_2)\n",
    "print(dot_product)\n"
   ]
  },
  {
   "cell_type": "code",
   "execution_count": 54,
   "id": "dbb44e04-4581-416a-b925-ddda25e7f53e",
   "metadata": {},
   "outputs": [
    {
     "name": "stdout",
     "output_type": "stream",
     "text": [
      "[[2 1 3]\n",
      " [7 5 6]]\n",
      "(2, 3)\n",
      "[[2 7]\n",
      " [1 5]\n",
      " [3 6]]\n",
      "(3, 2)\n"
     ]
    }
   ],
   "source": [
    "# matrix transpose\n",
    "\n",
    "my_2d_array_1 = np.array (\n",
    "    [[2, 1, 3],\n",
    "    [7, 5, 6]]\n",
    ")\n",
    "print(my_2d_array_1)\n",
    "print(my_2d_array_1.shape)\n",
    "print(my_2d_array_1.T)\n",
    "print(my_2d_array_1.T.shape)"
   ]
  },
  {
   "cell_type": "code",
   "execution_count": 55,
   "id": "b0426fba-8ffc-4a94-a2e5-9edbb7dea692",
   "metadata": {},
   "outputs": [
    {
     "name": "stdout",
     "output_type": "stream",
     "text": [
      "3.3333333333333335\n",
      "3.0\n",
      "2.4267032964268394\n"
     ]
    }
   ],
   "source": [
    "# statistical methods\n",
    "my_np_array = np.array([1, 5, 1, 1, 5, 7])\n",
    "print(np.mean(my_np_array))\n",
    "print(np.median(my_np_array))\n",
    "print(np.std(my_np_array))"
   ]
  },
  {
   "cell_type": "markdown",
   "id": "d117b74f-ff5f-41a7-882c-677479932d8b",
   "metadata": {},
   "source": [
    "# NumPy Filtering"
   ]
  },
  {
   "cell_type": "code",
   "execution_count": 56,
   "id": "f3d49141-a32d-4d79-ad24-7ea478dcac89",
   "metadata": {},
   "outputs": [
    {
     "name": "stdout",
     "output_type": "stream",
     "text": [
      "[1 3 5]\n"
     ]
    }
   ],
   "source": [
    "# 1. Boolean Mask\n",
    "my_1d_array = np.array(\n",
    "    [ 1, 2, 3, 4, 5, 6]\n",
    ")\n",
    "\n",
    "filter_mask = [True, False, True, False, True, False]\n",
    "filtered_array = my_1d_array[filter_mask]\n",
    "print(filtered_array)"
   ]
  },
  {
   "cell_type": "code",
   "execution_count": 59,
   "id": "a9151b7f-be1d-4fef-97ba-f73d27a6fa3c",
   "metadata": {},
   "outputs": [
    {
     "name": "stdout",
     "output_type": "stream",
     "text": [
      "[False  True False  True False  True]\n",
      "[2 4 6]\n"
     ]
    }
   ],
   "source": [
    "# 2. Conditional\n",
    "filter_mask = (my_1d_array % 2 == 0)\n",
    "print(filter_mask)\n",
    "filtered_array = my_1d_array[filter_mask]\n",
    "print(filtered_array)"
   ]
  },
  {
   "cell_type": "code",
   "execution_count": 60,
   "id": "5997a4cb-544e-4a6e-afac-86d870ad17ba",
   "metadata": {},
   "outputs": [
    {
     "name": "stdout",
     "output_type": "stream",
     "text": [
      "[1 2 6]\n"
     ]
    }
   ],
   "source": [
    "# 3. Indices\n",
    "indices =[0, 1, 5]\n",
    "filtered_array = my_1d_array[indices]\n",
    "print(filtered_array)"
   ]
  },
  {
   "cell_type": "code",
   "execution_count": 62,
   "id": "566969a6-a93e-4a21-bc18-207a887fe19e",
   "metadata": {},
   "outputs": [
    {
     "data": {
      "text/plain": [
       "array([2, 4, 6])"
      ]
     },
     "execution_count": 62,
     "metadata": {},
     "output_type": "execute_result"
    }
   ],
   "source": [
    "# Custom Filter Metod\n",
    "\n",
    "def my_filter_method(x):\n",
    "    if x % 2 == 1:\n",
    "        return False\n",
    "    return True\n",
    "\n",
    "filtered_iterable = filter(my_filter_method, my_1d_array)\n",
    "my_filtered_array = np.array(\n",
    "    list(filtered_iterable)\n",
    ")\n",
    "my_filtered_array"
   ]
  },
  {
   "cell_type": "markdown",
   "id": "220f9a02-d89e-4032-87c8-edc33c31598d",
   "metadata": {},
   "source": [
    "# Vectorization\n",
    "# The process of performing operations on entire arrays (or vector) without the ned for explicit loops"
   ]
  },
  {
   "cell_type": "code",
   "execution_count": 63,
   "id": "8197dd79-954f-4ae4-ad2c-2f4b1b70e8a8",
   "metadata": {},
   "outputs": [
    {
     "name": "stdout",
     "output_type": "stream",
     "text": [
      "[1 2 3 4 5 6 7 9]\n"
     ]
    },
    {
     "data": {
      "text/plain": [
       "array([ True, False,  True, False,  True, False,  True,  True])"
      ]
     },
     "execution_count": 63,
     "metadata": {},
     "output_type": "execute_result"
    }
   ],
   "source": [
    "# Does operation in one move\n",
    "my_1d_array = np.array(\n",
    "    [1, 2, 3, 4, 5, 6, 7, 9]\n",
    ")\n",
    "print(my_1d_array)\n",
    "my_1d_array % 2 == 1"
   ]
  },
  {
   "cell_type": "code",
   "execution_count": 72,
   "id": "6e361e47-2124-4711-831d-f7833401cda4",
   "metadata": {},
   "outputs": [
    {
     "name": "stdout",
     "output_type": "stream",
     "text": [
      "[1 2 3 4 5 6 7 9]\n",
      "[1 2 3 4 5 6 7 9]\n",
      "[ 6  7  8  9 10 11 12 14]\n"
     ]
    }
   ],
   "source": [
    "my_1d_array = np.array(\n",
    "    [1, 2, 3, 4, 5, 6, 7, 9]\n",
    ")\n",
    "print(my_1d_array)\n",
    "\n",
    "for x in my_1d_array:\n",
    "    x = x + 5\n",
    "print(my_1d_array)\n",
    "\n",
    "my_1d_array = my_1d_array + 5 # vectorization --> faster\n",
    "print(my_1d_array)"
   ]
  },
  {
   "cell_type": "markdown",
   "id": "7ab69ca6-ae8d-4fc0-bd02-670f7b93f886",
   "metadata": {},
   "source": [
    "# Broadcasting\n",
    "# Converting a lower shape into Higher shape for vectorization"
   ]
  },
  {
   "cell_type": "code",
   "execution_count": 77,
   "id": "7000500b-bbf1-4385-935b-e91761ac72df",
   "metadata": {},
   "outputs": [
    {
     "name": "stdout",
     "output_type": "stream",
     "text": [
      "[[  3   8]\n",
      " [  5  12]\n",
      " [  7 -16]\n",
      " [  5  -6]]\n"
     ]
    }
   ],
   "source": [
    "# condition: Two dimensions must be Compatible (right-->left)\n",
    "w = np.array(\n",
    "    [1, 2]\n",
    ")\n",
    "\n",
    "x = np.array([\n",
    "    [3, 4],\n",
    "    [5, 6],\n",
    "    [7, -8],\n",
    "    [5, -3]\n",
    "    ])\n",
    "\n",
    "print(w * x)"
   ]
  },
  {
   "cell_type": "code",
   "execution_count": null,
   "id": "3789e0c1-9d18-4d46-91d9-636e65115bf8",
   "metadata": {},
   "outputs": [],
   "source": []
  }
 ],
 "metadata": {
  "kernelspec": {
   "display_name": "Python 3 (ipykernel)",
   "language": "python",
   "name": "python3"
  },
  "language_info": {
   "codemirror_mode": {
    "name": "ipython",
    "version": 3
   },
   "file_extension": ".py",
   "mimetype": "text/x-python",
   "name": "python",
   "nbconvert_exporter": "python",
   "pygments_lexer": "ipython3",
   "version": "3.12.8"
  }
 },
 "nbformat": 4,
 "nbformat_minor": 5
}
