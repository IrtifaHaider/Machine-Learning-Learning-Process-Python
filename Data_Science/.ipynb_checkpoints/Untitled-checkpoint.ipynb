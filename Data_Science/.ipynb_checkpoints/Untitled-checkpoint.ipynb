{
 "cells": [
  {
   "cell_type": "code",
   "execution_count": 3,
   "id": "6402d9f9-9db5-4a0f-8564-d47e38fcb496",
   "metadata": {},
   "outputs": [],
   "source": [
    "# NumPy stands for Numeric Python \n",
    "# - a python library\n",
    "# - used for working with arrays\n",
    "# - 50X faster than list\n",
    "# - takes up continous memory\n",
    "# - supports vectorization\n"
   ]
  },
  {
   "cell_type": "code",
   "execution_count": 5,
   "id": "ad6f05ab-8440-4f9b-8c37-79570a0c2739",
   "metadata": {},
   "outputs": [
    {
     "data": {
      "text/plain": [
       "'2.0.2'"
      ]
     },
     "execution_count": 5,
     "metadata": {},
     "output_type": "execute_result"
    }
   ],
   "source": [
    "import numpy as np\n",
    "np.__version__"
   ]
  },
  {
   "cell_type": "code",
   "execution_count": 12,
   "id": "4ce86956-506b-46f4-9b21-6310dc5fe201",
   "metadata": {},
   "outputs": [
    {
     "name": "stdout",
     "output_type": "stream",
     "text": [
      "[1 2 3]\n",
      "<class 'numpy.ndarray'>\n",
      "int64\n",
      "(3,)\n",
      "1\n"
     ]
    }
   ],
   "source": [
    "my_np_array = np.array(\n",
    "    [1,2,3]\n",
    ")\n",
    "print(my_np_array)\n",
    "print(type(my_np_array))\n",
    "\n",
    "# Property 1: datatype\n",
    "print(my_np_array.dtype)\n",
    "\n",
    "# Property 2: shape\n",
    "print(my_np_array.shape)\n",
    "\n",
    "# Property 3: dimension\n",
    "print(my_np_array.ndim)"
   ]
  },
  {
   "cell_type": "code",
   "execution_count": 17,
   "id": "95f364f6-6645-4c58-b86f-e93d564aaa66",
   "metadata": {},
   "outputs": [
    {
     "data": {
      "text/plain": [
       "array([0., 0., 0., 0., 0.])"
      ]
     },
     "execution_count": 17,
     "metadata": {},
     "output_type": "execute_result"
    }
   ],
   "source": [
    "# Creating an array with all zeros\n",
    "zeros_np_array = np.zeros(\n",
    "    shape=(5,)\n",
    ")\n",
    "zeros_np_array"
   ]
  },
  {
   "cell_type": "code",
   "execution_count": 18,
   "id": "43fa6416-aaaa-4ce5-8ca7-ea126418bbe8",
   "metadata": {},
   "outputs": [
    {
     "data": {
      "text/plain": [
       "array([1., 1., 1., 1., 1.])"
      ]
     },
     "execution_count": 18,
     "metadata": {},
     "output_type": "execute_result"
    }
   ],
   "source": [
    "# Creating an array with all ones\n",
    "ones_np_array = np.ones(\n",
    "    shape=(5,)\n",
    ")\n",
    "ones_np_array"
   ]
  },
  {
   "cell_type": "code",
   "execution_count": 20,
   "id": "42189545-6449-45b2-b045-181ab9d17591",
   "metadata": {},
   "outputs": [
    {
     "name": "stdout",
     "output_type": "stream",
     "text": [
      "[[1 1]\n",
      " [1 1]\n",
      " [1 1]\n",
      " [1 1]\n",
      " [1 1]\n",
      " [1 1]\n",
      " [1 1]\n",
      " [1 1]\n",
      " [1 1]\n",
      " [1 1]]\n",
      "int64\n"
     ]
    }
   ],
   "source": [
    "# Creating an array with all ones integer type\n",
    "ones_np_array = np.ones(\n",
    "    shape=(10, 2),\n",
    "    dtype = 'int'\n",
    ")\n",
    "print(ones_np_array)\n",
    "print(ones_np_array.dtype)"
   ]
  },
  {
   "cell_type": "code",
   "execution_count": 21,
   "id": "6e5cf9e8-688d-4a7a-9391-585fe5e05796",
   "metadata": {},
   "outputs": [
    {
     "data": {
      "text/plain": [
       "array([15, 15, 15, 15, 15, 15, 15, 15, 15, 15])"
      ]
     },
     "execution_count": 21,
     "metadata": {},
     "output_type": "execute_result"
    }
   ],
   "source": [
    "# Creating an array with a specific value\n",
    "assigned_with_specific_np_array = np.full(\n",
    "    shape =(10,),\n",
    "    fill_value=15,\n",
    ")\n",
    "assigned_with_specific_np_array"
   ]
  },
  {
   "cell_type": "code",
   "execution_count": 25,
   "id": "d751e4c3-9f0b-4a34-9a2f-3de985a84ae7",
   "metadata": {},
   "outputs": [
    {
     "data": {
      "text/plain": [
       "array([[1., 0., 0.],\n",
       "       [0., 1., 0.],\n",
       "       [0., 0., 1.]])"
      ]
     },
     "execution_count": 25,
     "metadata": {},
     "output_type": "execute_result"
    }
   ],
   "source": [
    "# Creating Identitiy Matrix\n",
    "id_matrix = np.eye(3)\n",
    "id_matrix\n",
    "#print(id_matrix)"
   ]
  },
  {
   "cell_type": "code",
   "execution_count": 26,
   "id": "9fb6c978-f848-494c-883e-6793cd69558f",
   "metadata": {},
   "outputs": [
    {
     "data": {
      "text/plain": [
       "array([1., 1., 1., 1., 1.])"
      ]
     },
     "execution_count": 26,
     "metadata": {},
     "output_type": "execute_result"
    }
   ],
   "source": [
    "# Creating empty array\n",
    "my_empty_np_array =np.empty(\n",
    "    shape=(5,)\n",
    ")\n",
    "my_empty_np_array"
   ]
  },
  {
   "cell_type": "code",
   "execution_count": 27,
   "id": "5ee7dbcc-0cb9-4b66-ac20-78f1fd3dd365",
   "metadata": {},
   "outputs": [
    {
     "data": {
      "text/plain": [
       "array([1, 2, 3])"
      ]
     },
     "execution_count": 27,
     "metadata": {},
     "output_type": "execute_result"
    }
   ],
   "source": [
    "# lsit to numpy\n",
    "my_list = [1,2,3]\n",
    "my_np_list = np.array(\n",
    "    my_list\n",
    ")\n",
    "my_np_list"
   ]
  },
  {
   "cell_type": "code",
   "execution_count": 28,
   "id": "9293903d-d05f-4dfc-a188-41e8c724478a",
   "metadata": {},
   "outputs": [
    {
     "name": "stdout",
     "output_type": "stream",
     "text": [
      "int64\n"
     ]
    }
   ],
   "source": [
    "# Type Cast\n",
    "print(my_np_list.dtype)\n",
    "my_np_list_float = my_np_list_float.astype"
   ]
  },
  {
   "cell_type": "code",
   "execution_count": null,
   "id": "c6e2e1cc-ec5c-45b8-a1dc-d91a443b5f9e",
   "metadata": {},
   "outputs": [],
   "source": []
  }
 ],
 "metadata": {
  "kernelspec": {
   "display_name": "Python 3 (ipykernel)",
   "language": "python",
   "name": "python3"
  },
  "language_info": {
   "codemirror_mode": {
    "name": "ipython",
    "version": 3
   },
   "file_extension": ".py",
   "mimetype": "text/x-python",
   "name": "python",
   "nbconvert_exporter": "python",
   "pygments_lexer": "ipython3",
   "version": "3.12.8"
  }
 },
 "nbformat": 4,
 "nbformat_minor": 5
}
