{
 "cells": [
  {
   "cell_type": "code",
   "execution_count": 3,
   "id": "6402d9f9-9db5-4a0f-8564-d47e38fcb496",
   "metadata": {},
   "outputs": [],
   "source": [
    "# NumPy stands for Numeric Python \n",
    "# - a python library\n",
    "# - used for working with arrays\n",
    "# - 50X faster than list\n",
    "# - takes up continous memory\n",
    "# - supports vectorization\n"
   ]
  },
  {
   "cell_type": "code",
   "execution_count": 5,
   "id": "ad6f05ab-8440-4f9b-8c37-79570a0c2739",
   "metadata": {},
   "outputs": [
    {
     "data": {
      "text/plain": [
       "'2.0.2'"
      ]
     },
     "execution_count": 5,
     "metadata": {},
     "output_type": "execute_result"
    }
   ],
   "source": [
    "import numpy as np\n",
    "np.__version__"
   ]
  },
  {
   "cell_type": "code",
   "execution_count": 6,
   "id": "4ce86956-506b-46f4-9b21-6310dc5fe201",
   "metadata": {},
   "outputs": [
    {
     "name": "stdout",
     "output_type": "stream",
     "text": [
      "[1 2 3]\n",
      "<class 'numpy.ndarray'>\n",
      "int64\n",
      "(3,)\n",
      "1\n"
     ]
    }
   ],
   "source": [
    "my_np_array = np.array(\n",
    "    [1,2,3]\n",
    ")\n",
    "print(my_np_array)\n",
    "print(type(my_np_array))\n",
    "\n",
    "# Property 1: datatype\n",
    "print(my_np_array.dtype)\n",
    "\n",
    "# Property 2: shape\n",
    "print(my_np_array.shape)\n",
    "\n",
    "# Property 3: dimension\n",
    "print(my_np_array.ndim)"
   ]
  },
  {
   "cell_type": "code",
   "execution_count": 7,
   "id": "95f364f6-6645-4c58-b86f-e93d564aaa66",
   "metadata": {},
   "outputs": [
    {
     "data": {
      "text/plain": [
       "array([0., 0., 0., 0., 0.])"
      ]
     },
     "execution_count": 7,
     "metadata": {},
     "output_type": "execute_result"
    }
   ],
   "source": [
    "# Creating an array with all zeros\n",
    "zeros_np_array = np.zeros(\n",
    "    shape=(5,)\n",
    ")\n",
    "zeros_np_array"
   ]
  },
  {
   "cell_type": "code",
   "execution_count": 8,
   "id": "43fa6416-aaaa-4ce5-8ca7-ea126418bbe8",
   "metadata": {},
   "outputs": [
    {
     "data": {
      "text/plain": [
       "array([1., 1., 1., 1., 1.])"
      ]
     },
     "execution_count": 8,
     "metadata": {},
     "output_type": "execute_result"
    }
   ],
   "source": [
    "# Creating an array with all ones\n",
    "ones_np_array = np.ones(\n",
    "    shape=(5,)\n",
    ")\n",
    "ones_np_array"
   ]
  },
  {
   "cell_type": "code",
   "execution_count": 9,
   "id": "42189545-6449-45b2-b045-181ab9d17591",
   "metadata": {},
   "outputs": [
    {
     "name": "stdout",
     "output_type": "stream",
     "text": [
      "[[1 1]\n",
      " [1 1]\n",
      " [1 1]\n",
      " [1 1]\n",
      " [1 1]\n",
      " [1 1]\n",
      " [1 1]\n",
      " [1 1]\n",
      " [1 1]\n",
      " [1 1]]\n",
      "int64\n"
     ]
    }
   ],
   "source": [
    "# Creating an array with all ones integer type\n",
    "ones_np_array = np.ones(\n",
    "    shape=(10, 2),\n",
    "    dtype = 'int'\n",
    ")\n",
    "print(ones_np_array)\n",
    "print(ones_np_array.dtype)"
   ]
  },
  {
   "cell_type": "code",
   "execution_count": 10,
   "id": "6e5cf9e8-688d-4a7a-9391-585fe5e05796",
   "metadata": {},
   "outputs": [
    {
     "data": {
      "text/plain": [
       "array([15, 15, 15, 15, 15, 15, 15, 15, 15, 15])"
      ]
     },
     "execution_count": 10,
     "metadata": {},
     "output_type": "execute_result"
    }
   ],
   "source": [
    "# Creating an array with a specific value\n",
    "assigned_with_specific_np_array = np.full(\n",
    "    shape =(10,),\n",
    "    fill_value=15,\n",
    ")\n",
    "assigned_with_specific_np_array"
   ]
  },
  {
   "cell_type": "code",
   "execution_count": 11,
   "id": "d751e4c3-9f0b-4a34-9a2f-3de985a84ae7",
   "metadata": {},
   "outputs": [
    {
     "data": {
      "text/plain": [
       "array([[1., 0., 0.],\n",
       "       [0., 1., 0.],\n",
       "       [0., 0., 1.]])"
      ]
     },
     "execution_count": 11,
     "metadata": {},
     "output_type": "execute_result"
    }
   ],
   "source": [
    "# Creating Identitiy Matrix\n",
    "id_matrix = np.eye(3)\n",
    "id_matrix\n",
    "#print(id_matrix)"
   ]
  },
  {
   "cell_type": "code",
   "execution_count": 12,
   "id": "9fb6c978-f848-494c-883e-6793cd69558f",
   "metadata": {},
   "outputs": [
    {
     "data": {
      "text/plain": [
       "array([1., 1., 1., 1., 1.])"
      ]
     },
     "execution_count": 12,
     "metadata": {},
     "output_type": "execute_result"
    }
   ],
   "source": [
    "# Creating empty array\n",
    "my_empty_np_array =np.empty(\n",
    "    shape=(5,)\n",
    ")\n",
    "my_empty_np_array"
   ]
  },
  {
   "cell_type": "code",
   "execution_count": 13,
   "id": "5ee7dbcc-0cb9-4b66-ac20-78f1fd3dd365",
   "metadata": {},
   "outputs": [
    {
     "name": "stdout",
     "output_type": "stream",
     "text": [
      "int64\n",
      "float64\n"
     ]
    }
   ],
   "source": [
    "# lsit to numpy\n",
    "my_list = [1,2,3]\n",
    "my_np_list = np.array(\n",
    "    my_list\n",
    ")\n",
    "my_np_list\n",
    "\n",
    "# Type Cast\n",
    "print(my_np_list.dtype)\n",
    "my_np_list_float = my_np_list.astype('float')\n",
    "print(my_np_list_float.dtype)"
   ]
  },
  {
   "cell_type": "code",
   "execution_count": 14,
   "id": "9293903d-d05f-4dfc-a188-41e8c724478a",
   "metadata": {},
   "outputs": [
    {
     "data": {
      "text/plain": [
       "array([3, 4, 5, 6, 7, 8])"
      ]
     },
     "execution_count": 14,
     "metadata": {},
     "output_type": "execute_result"
    }
   ],
   "source": [
    "# Creating sequential array\n",
    "my_array = np.arange(start = 1, stop =10, step = 1) #start, end-1, increment(by deafult step=1)\n",
    "my_array\n",
    "my_array = np.arange(3,9) #start, end-1, increment(by deafult step=1)\n",
    "my_array"
   ]
  },
  {
   "cell_type": "code",
   "execution_count": 15,
   "id": "c6e2e1cc-ec5c-45b8-a1dc-d91a443b5f9e",
   "metadata": {},
   "outputs": [
    {
     "data": {
      "text/plain": [
       "array([  1.,  12.,  23.,  34.,  45.,  56.,  67.,  78.,  89., 100.])"
      ]
     },
     "execution_count": 15,
     "metadata": {},
     "output_type": "execute_result"
    }
   ],
   "source": [
    "my_np_array = np.linspace(\n",
    "    start = 3,\n",
    "    stop = 9,\n",
    "    num = 3 # generate 3 number that are at equal distances\n",
    ")\n",
    "my_np_array\n",
    "# linspace --> generates an array of evenly spaced numbers over a defined interval\n",
    "my_np_array = np.linspace(\n",
    "    start = 1,\n",
    "    stop = 100,\n",
    "    num = 10 \n",
    ")\n",
    "my_np_array"
   ]
  },
  {
   "cell_type": "code",
   "execution_count": 16,
   "id": "d94d6b75-4776-4dfb-b2ee-306a141228c8",
   "metadata": {},
   "outputs": [
    {
     "name": "stdout",
     "output_type": "stream",
     "text": [
      "0-dimensional array ;  9 \n",
      "ndim: 0\n",
      "1-dimensional array ;  [1.5 2.  3.3 4.7 5.1 6. ] \n",
      "ndim: 1\n",
      "2-dimensional array ;  [[1 2 3]\n",
      " [4 5 6]\n",
      " [7 8 9]] \n",
      "ndim: 2\n"
     ]
    }
   ],
   "source": [
    "# Mathematical Objects | Dimension\n",
    "# - Scalar --> 0D\n",
    "# - Vector --> 1D\n",
    "# - Matrix --> 2D\n",
    "# - Tensor --> xD where x > 2 : a unit data type of PyTorch and Tensorflow\n",
    "\n",
    "my_0d_array = np.array(9)\n",
    "print('0-dimensional array ; ', my_0d_array, '\\nndim:', my_0d_array.ndim)\n",
    "\n",
    "my_1d_array = np.array(\n",
    "    [1.5, 2, 3.3, 4.7, 5.1, 6]\n",
    ")\n",
    "print('1-dimensional array ; ', my_1d_array, '\\nndim:', my_1d_array.ndim)\n",
    "\n",
    "my_2d_array = np.array(\n",
    "    [[1, 2, 3],\n",
    "     [4, 5, 6],\n",
    "     [7, 8, 9]]   \n",
    ")\n",
    "print('2-dimensional array ; ', my_2d_array, '\\nndim:', my_2d_array.ndim)\n"
   ]
  },
  {
   "cell_type": "code",
   "execution_count": 17,
   "id": "b144924f-fda2-4844-9888-57f1407d3a4d",
   "metadata": {},
   "outputs": [
    {
     "name": "stdout",
     "output_type": "stream",
     "text": [
      "3\n",
      "4\n",
      "[1 2 3 4]\n",
      "8\n",
      "6\n"
     ]
    }
   ],
   "source": [
    "# NumPy Indexing\n",
    "my_np_array = np.array(\n",
    "    [1, 2, 3, 4, 5]\n",
    ")\n",
    "print(my_np_array[2])\n",
    "print(my_np_array[-2])\n",
    "\n",
    "my_2d_array = np.array(\n",
    "    [[1, 2, 3, 4],\n",
    "     [5, 8, 9, 6],\n",
    "     [7, 1, 2, 7]]\n",
    ")\n",
    "print(my_2d_array[0])\n",
    "print(my_2d_array[1,1])\n",
    "print(my_2d_array[1,-1])"
   ]
  },
  {
   "cell_type": "code",
   "execution_count": 18,
   "id": "3542884a-4176-48e5-a711-2c22ef251be4",
   "metadata": {},
   "outputs": [
    {
     "data": {
      "text/plain": [
       "array([[2, 3],\n",
       "       [8, 9]])"
      ]
     },
     "execution_count": 18,
     "metadata": {},
     "output_type": "execute_result"
    }
   ],
   "source": [
    "# NumPy Slicing : picking subarray \n",
    "my_np_array = np.array(\n",
    "    [1, 2, 3, 4, 5, 7, 8]\n",
    ")\n",
    "my_np_array[1:3] # by default step count 1\n",
    "my_np_array[1:4:1]\n",
    "my_np_array[0:5:2]\n",
    "my_np_array[:3] # index 0 to 2\n",
    "my_np_array[::]\n",
    "\n",
    "\n",
    "my_2d_array = np.array(\n",
    "    [[1, 2, 3, 4],\n",
    "     [5, 8, 9, 6],\n",
    "     [7, 1, 2, 7]]\n",
    ")\n",
    "my_2d_array[0:2, ]\n",
    "my_2d_array[0:2, 1:3]\n",
    "# my_2d_array[, 1:3] --> does not work"
   ]
  },
  {
   "cell_type": "markdown",
   "id": "611b3731-c719-4828-b2e2-1f827b266935",
   "metadata": {},
   "source": [
    "# A cell can be two types: code, markdown\n",
    "# NumPy Array Iteration"
   ]
  },
  {
   "cell_type": "code",
   "execution_count": 21,
   "id": "d7cad80f-4353-42d5-8a6b-8de887f30b68",
   "metadata": {},
   "outputs": [
    {
     "name": "stdout",
     "output_type": "stream",
     "text": [
      "[1 2 3 4 5 6]\n"
     ]
    }
   ],
   "source": [
    "import numpy as np\n",
    "np_array = np.array(\n",
    "    [1, 2, 3, 4, 5, 6]\n",
    ")\n",
    "print(np_array)"
   ]
  },
  {
   "cell_type": "code",
   "execution_count": 23,
   "id": "3f124cab-3b03-4b2a-b0c4-0b4cf31fb803",
   "metadata": {},
   "outputs": [
    {
     "name": "stdout",
     "output_type": "stream",
     "text": [
      "1\n",
      "2\n",
      "3\n",
      "4\n",
      "5\n",
      "6\n"
     ]
    }
   ],
   "source": [
    "# Option 1: Iterate by value (accessing the values sequentially)\n",
    "\n",
    "for val in np_array:\n",
    "    print(val)"
   ]
  },
  {
   "cell_type": "code",
   "execution_count": 24,
   "id": "f3508b3f-f760-4f03-8182-1dc550a3f4fc",
   "metadata": {},
   "outputs": [
    {
     "name": "stdout",
     "output_type": "stream",
     "text": [
      "1\n",
      "2\n",
      "3\n",
      "4\n",
      "5\n",
      "6\n"
     ]
    }
   ],
   "source": [
    "# Option 2: Iterate by index (accessing the values index number sequentially)\n",
    "\n",
    "for i in range(len(np_array)):\n",
    "    print (np_array[i])\n"
   ]
  },
  {
   "cell_type": "code",
   "execution_count": 25,
   "id": "1a3aba76-e73b-4f2e-8565-becdcafb251d",
   "metadata": {},
   "outputs": [
    {
     "name": "stdout",
     "output_type": "stream",
     "text": [
      "index = 0 value = 1\n",
      "index = 1 value = 2\n",
      "index = 2 value = 3\n",
      "index = 3 value = 4\n",
      "index = 4 value = 5\n",
      "index = 5 value = 6\n"
     ]
    }
   ],
   "source": [
    "# Option 2: Iterate by value and index (accessing both the values and index number sequentially)\n",
    "for i, val in enumerate(np_array):\n",
    "    print(f\"index = {i} value = {val}\")"
   ]
  },
  {
   "cell_type": "markdown",
   "id": "cbdcc3d7-2397-4f6b-8a6e-57035b1a3f00",
   "metadata": {},
   "source": [
    "# NumPy Methods"
   ]
  },
  {
   "cell_type": "code",
   "execution_count": 31,
   "id": "5d2952cc-071d-43d2-9b9d-8a32a3d88a9e",
   "metadata": {},
   "outputs": [
    {
     "name": "stdout",
     "output_type": "stream",
     "text": [
      "[[ 1  2  3]\n",
      " [ 4  5  6]\n",
      " [ 7  8  9]\n",
      " [10 11 12]\n",
      " [13 14 15]]\n",
      "(5, 3)\n",
      "[[ 1  2  3  4  5]\n",
      " [ 6  7  8  9 10]\n",
      " [11 12 13 14 15]]\n",
      "[[ 1]\n",
      " [ 2]\n",
      " [ 3]\n",
      " [ 4]\n",
      " [ 5]\n",
      " [ 6]\n",
      " [ 7]\n",
      " [ 8]\n",
      " [ 9]\n",
      " [10]\n",
      " [11]\n",
      " [12]\n",
      " [13]\n",
      " [14]\n",
      " [15]]\n",
      "[[[ 1  2  3  4  5]\n",
      "  [ 6  7  8  9 10]\n",
      "  [11 12 13 14 15]]]\n"
     ]
    }
   ],
   "source": [
    "# Reshape \n",
    "# Purpose: reshaping matrices for multiplication operations, does not change elements of matrix\n",
    "# COndition: multiplication of dimension values before and after reshaping must be ame\n",
    "my_2d_array = np.array(\n",
    "    [[1, 2, 3],\n",
    "     [4, 5, 6],\n",
    "     [7, 8, 9],\n",
    "     [10, 11, 12],\n",
    "     [13, 14, 15]]\n",
    ")\n",
    "print(my_2d_array)\n",
    "print(my_2d_array.shape)\n",
    "print(my_2d_array.reshape(3, 5)) #converts to 3 rows, 5 columns\n",
    "# print(my_2d_array.reshape(3, 4)) --> valueError: cannot reshape array of size 15 into shape (3,4)\n",
    "print(my_2d_array.reshape(15, 1))\n",
    "print(my_2d_array.reshape(1, 3, 5)) # turns into 3D matrix: 1 matrix has 3 elements, and each elements have 5 elements"
   ]
  },
  {
   "cell_type": "code",
   "execution_count": null,
   "id": "0064f8c2-02c2-43a4-8a6d-083f93ff01b7",
   "metadata": {},
   "outputs": [],
   "source": []
  }
 ],
 "metadata": {
  "kernelspec": {
   "display_name": "Python 3 (ipykernel)",
   "language": "python",
   "name": "python3"
  },
  "language_info": {
   "codemirror_mode": {
    "name": "ipython",
    "version": 3
   },
   "file_extension": ".py",
   "mimetype": "text/x-python",
   "name": "python",
   "nbconvert_exporter": "python",
   "pygments_lexer": "ipython3",
   "version": "3.12.8"
  }
 },
 "nbformat": 4,
 "nbformat_minor": 5
}
